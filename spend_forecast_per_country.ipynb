{
  "cells": [
    {
      "cell_type": "markdown",
      "id": "64028213-0c48-4484-a99b-0b8cfd899e8d",
      "metadata": {
        "tags": [],
        "id": "64028213-0c48-4484-a99b-0b8cfd899e8d"
      },
      "source": [
        "# Spend Forecast (Prophet)"
      ]
    },
    {
      "cell_type": "markdown",
      "id": "14429c5b-e834-427e-9ac3-d7d8db90d249",
      "metadata": {
        "tags": [],
        "id": "14429c5b-e834-427e-9ac3-d7d8db90d249"
      },
      "source": [
        "# **Import packages and querying data**\n",
        "In this section we are importing the different packages and creating the dataframe from bigquery"
      ]
    },
    {
      "cell_type": "code",
      "execution_count": null,
      "id": "0a7cdcf0-63d6-4bb6-96fa-2de0c53dabc4",
      "metadata": {
        "id": "0a7cdcf0-63d6-4bb6-96fa-2de0c53dabc4"
      },
      "outputs": [],
      "source": [
        "\n",
        "import pandas as pd\n",
        "import seaborn as sns\n",
        "from matplotlib import pyplot as plt\n",
        "import holidays\n",
        "from prophet import Prophet\n",
        "import pandas_gbq\n",
        "from datetime import datetime, timedelta\n",
        "\n",
        "from sklearn.metrics import mean_squared_error, r2_score, mean_absolute_error\n"
      ]
    },
    {
      "cell_type": "code",
      "execution_count": null,
      "id": "c0b5378f-3766-4dc1-96a2-a23e92a403fe",
      "metadata": {
        "tags": [],
        "id": "c0b5378f-3766-4dc1-96a2-a23e92a403fe"
      },
      "outputs": [],
      "source": [
        "# Import required libraries\n",
        "from google.cloud import bigquery"
      ]
    },
    {
      "cell_type": "code",
      "execution_count": null,
      "id": "e4957ee3-d57f-4303-8216-9ed97310037f",
      "metadata": {
        "tags": [],
        "id": "e4957ee3-d57f-4303-8216-9ed97310037f"
      },
      "outputs": [],
      "source": [
        "sql = \"\"\"\n",
        "WITH company AS (SELECT * FROM `analytics_companies.companies_current`)\n",
        ", spend AS (SELECT * FROM `analytics_ssot.spend_per_customer_daily`)\n",
        "\n",
        "SELECT DATE(s.performed_date)                       AS performed_date\n",
        "    , CASE WHEN c.company_market = 'GB' THEN c.company_market\n",
        "           WHEN c.company_market = 'DK' THEN c.company_market\n",
        "           WHEN c.company_market = 'DE' THEN c.company_market\n",
        "           WHEN c.company_market = 'ES' THEN c.company_market\n",
        "           WHEN c.company_market = 'SE' THEN c.company_market\n",
        "           WHEN c.company_market = 'NL' THEN c.company_market\n",
        "           WHEN c.company_market = 'FR' THEN c.company_market\n",
        "           ELSE 'Other Markets' END                         AS country\n",
        "    , COUNT(DISTINCT(IF(spend_eur > 0, s.company_id,NULL)))                                        AS spending_customer_count\n",
        "    , SUM(s.spend_eur) / NULLIF( COUNT(DISTINCT(IF(spend_eur > 0, s.company_id,NULL))),0)          AS spend_per_spending_customer\n",
        "    , SUM(s.spend_eur)                                                                             AS spend\n",
        "FROM spend AS s\n",
        "LEFT JOIN company AS c\n",
        "    ON c.company_id = s.company_id\n",
        "WHERE 1 = 1\n",
        "    AND s.performed_date >= '2021-02-01'\n",
        "GROUP BY 1, 2\n",
        "\n",
        "\n",
        "\"\"\""
      ]
    },
    {
      "cell_type": "code",
      "execution_count": 1,
      "id": "5118315d-b2d6-4a40-a3c0-037257a7d475",
      "metadata": {
        "id": "5118315d-b2d6-4a40-a3c0-037257a7d475",
        "outputId": "9f720b7d-2f40-4fdc-f24c-d33f633c5eb7",
        "colab": {
          "base_uri": "https://localhost:8080/",
          "height": 216
        }
      },
      "outputs": [
        {
          "output_type": "error",
          "ename": "NameError",
          "evalue": "name 'bigquery' is not defined",
          "traceback": [
            "\u001b[0;31m---------------------------------------------------------------------------\u001b[0m",
            "\u001b[0;31mNameError\u001b[0m                                 Traceback (most recent call last)",
            "\u001b[0;32m/tmp/ipython-input-1-1682777639.py\u001b[0m in \u001b[0;36m<cell line: 0>\u001b[0;34m()\u001b[0m\n\u001b[0;32m----> 1\u001b[0;31m \u001b[0mclient\u001b[0m \u001b[0;34m=\u001b[0m \u001b[0mbigquery\u001b[0m\u001b[0;34m.\u001b[0m\u001b[0mClient\u001b[0m\u001b[0;34m(\u001b[0m\u001b[0;34m\"production\"\u001b[0m\u001b[0;34m)\u001b[0m\u001b[0;34m\u001b[0m\u001b[0;34m\u001b[0m\u001b[0m\n\u001b[0m\u001b[1;32m      2\u001b[0m \u001b[0;34m\u001b[0m\u001b[0m\n\u001b[1;32m      3\u001b[0m \u001b[0mquery_job\u001b[0m \u001b[0;34m=\u001b[0m \u001b[0mclient\u001b[0m\u001b[0;34m.\u001b[0m\u001b[0mquery\u001b[0m\u001b[0;34m(\u001b[0m\u001b[0msql\u001b[0m\u001b[0;34m)\u001b[0m\u001b[0;34m\u001b[0m\u001b[0;34m\u001b[0m\u001b[0m\n\u001b[1;32m      4\u001b[0m \u001b[0;34m\u001b[0m\u001b[0m\n\u001b[1;32m      5\u001b[0m \u001b[0mdf\u001b[0m \u001b[0;34m=\u001b[0m \u001b[0mquery_job\u001b[0m\u001b[0;34m.\u001b[0m\u001b[0mto_dataframe\u001b[0m\u001b[0;34m(\u001b[0m\u001b[0;34m)\u001b[0m\u001b[0;34m\u001b[0m\u001b[0;34m\u001b[0m\u001b[0m\n",
            "\u001b[0;31mNameError\u001b[0m: name 'bigquery' is not defined"
          ]
        }
      ],
      "source": [
        "client = bigquery.Client(\"production\")\n",
        "\n",
        "query_job = client.query(sql)\n",
        "\n",
        "df = query_job.to_dataframe()"
      ]
    },
    {
      "cell_type": "code",
      "execution_count": null,
      "id": "e08f82bc-58b7-4141-a1e4-dbfa1d1fdcc0",
      "metadata": {
        "tags": [],
        "id": "e08f82bc-58b7-4141-a1e4-dbfa1d1fdcc0",
        "outputId": "10a9280b-b5a7-4c52-c014-d97171571338"
      },
      "outputs": [
        {
          "data": {
            "text/html": [
              "<div>\n",
              "<style scoped>\n",
              "    .dataframe tbody tr th:only-of-type {\n",
              "        vertical-align: middle;\n",
              "    }\n",
              "\n",
              "    .dataframe tbody tr th {\n",
              "        vertical-align: top;\n",
              "    }\n",
              "\n",
              "    .dataframe thead th {\n",
              "        text-align: right;\n",
              "    }\n",
              "</style>\n",
              "<table border=\"1\" class=\"dataframe\">\n",
              "  <thead>\n",
              "    <tr style=\"text-align: right;\">\n",
              "      <th></th>\n",
              "      <th>performed_date</th>\n",
              "      <th>country</th>\n",
              "      <th>spending_customer_count</th>\n",
              "      <th>spend_per_spending_customer</th>\n",
              "      <th>spend</th>\n",
              "    </tr>\n",
              "  </thead>\n",
              "  <tbody>\n",
              "    <tr>\n",
              "      <th>0</th>\n",
              "      <td>2024-04-18</td>\n",
              "      <td>ES</td>\n",
              "      <td>1366</td>\n",
              "      <td>584.582482</td>\n",
              "      <td>7.985397e+05</td>\n",
              "    </tr>\n",
              "    <tr>\n",
              "      <th>1</th>\n",
              "      <td>2022-05-19</td>\n",
              "      <td>GB</td>\n",
              "      <td>4211</td>\n",
              "      <td>614.561064</td>\n",
              "      <td>2.587917e+06</td>\n",
              "    </tr>\n",
              "    <tr>\n",
              "      <th>2</th>\n",
              "      <td>2023-01-09</td>\n",
              "      <td>Other Markets</td>\n",
              "      <td>281</td>\n",
              "      <td>442.804126</td>\n",
              "      <td>1.244280e+05</td>\n",
              "    </tr>\n",
              "    <tr>\n",
              "      <th>3</th>\n",
              "      <td>2021-12-31</td>\n",
              "      <td>DK</td>\n",
              "      <td>1506</td>\n",
              "      <td>421.420753</td>\n",
              "      <td>6.346597e+05</td>\n",
              "    </tr>\n",
              "    <tr>\n",
              "      <th>4</th>\n",
              "      <td>2023-03-25</td>\n",
              "      <td>GB</td>\n",
              "      <td>5219</td>\n",
              "      <td>473.115503</td>\n",
              "      <td>2.469190e+06</td>\n",
              "    </tr>\n",
              "  </tbody>\n",
              "</table>\n",
              "</div>"
            ],
            "text/plain": [
              "  performed_date        country  spending_customer_count  \\\n",
              "0     2024-04-18             ES                     1366   \n",
              "1     2022-05-19             GB                     4211   \n",
              "2     2023-01-09  Other Markets                      281   \n",
              "3     2021-12-31             DK                     1506   \n",
              "4     2023-03-25             GB                     5219   \n",
              "\n",
              "   spend_per_spending_customer         spend  \n",
              "0                   584.582482  7.985397e+05  \n",
              "1                   614.561064  2.587917e+06  \n",
              "2                   442.804126  1.244280e+05  \n",
              "3                   421.420753  6.346597e+05  \n",
              "4                   473.115503  2.469190e+06  "
            ]
          },
          "execution_count": 5,
          "metadata": {},
          "output_type": "execute_result"
        }
      ],
      "source": [
        "df.head()"
      ]
    },
    {
      "cell_type": "markdown",
      "id": "091ba700-c83b-49d5-afcd-bdeff32bfb0f",
      "metadata": {
        "tags": [],
        "id": "091ba700-c83b-49d5-afcd-bdeff32bfb0f"
      },
      "source": [
        "# **Cleaning data**\n",
        "In this section cleaning the data and exploring it so we can input it in the algorithm in the best way"
      ]
    },
    {
      "cell_type": "code",
      "execution_count": null,
      "id": "d4375a4e-aeed-487f-b339-9d24f31bde54",
      "metadata": {
        "tags": [],
        "id": "d4375a4e-aeed-487f-b339-9d24f31bde54"
      },
      "outputs": [],
      "source": [
        "#Filling null values\n",
        "df1 = df\n",
        "\n",
        "df1['spending_customer_count'] = df1['spending_customer_count'].fillna(0)\n",
        "df1['spend_per_spending_customer'] = df1['spend_per_spending_customer'].fillna(0)\n",
        "df1['spend'] = df1['spend'].fillna(0)"
      ]
    },
    {
      "cell_type": "code",
      "execution_count": null,
      "id": "b8c9161c-c0d9-4464-9367-853f54ef14f2",
      "metadata": {
        "tags": [],
        "id": "b8c9161c-c0d9-4464-9367-853f54ef14f2"
      },
      "outputs": [],
      "source": [
        "# Formatting\n",
        "df1[\"performed_date\"] = pd.to_datetime(df1[\"performed_date\"])\n",
        "df1[\"spending_customer_count\"] = pd.to_numeric(df1[\"spending_customer_count\"])\n",
        "df1[\"spend_per_spending_customer\"] = pd.to_numeric(df1[\"spend_per_spending_customer\"])"
      ]
    },
    {
      "cell_type": "markdown",
      "id": "0558929b-dd87-40f6-b9af-8df771273b8e",
      "metadata": {
        "id": "0558929b-dd87-40f6-b9af-8df771273b8e"
      },
      "source": [
        "Spending Customers show a more linear growth than the Avg Spend per Spending Customer"
      ]
    },
    {
      "cell_type": "markdown",
      "id": "736a8774-228a-4917-b111-2678ced4003c",
      "metadata": {
        "jp-MarkdownHeadingCollapsed": true,
        "tags": [],
        "id": "736a8774-228a-4917-b111-2678ced4003c"
      },
      "source": [
        "# **Holidays package**"
      ]
    },
    {
      "cell_type": "code",
      "execution_count": null,
      "id": "7123f66c-2c20-4072-9321-32d11f2c7e48",
      "metadata": {
        "id": "7123f66c-2c20-4072-9321-32d11f2c7e48"
      },
      "outputs": [],
      "source": [
        "# set holidays per country\n",
        "# dict_keys(['AT', 'BE', 'DE', 'DK', 'ES', 'FI', 'FR', 'GB', 'IE', 'NL', 'Other', 'PT', 'SE'])\n",
        "\n",
        "holidays_AT = pd.DataFrame({'holiday': 'holidays_AT',\n",
        "  'ds': pd.to_datetime(['2022-01-01','2022-01-06','2022-04-18','2022-05-01','2022-05-26','2022-06-06','2022-06-16','2022-08-15','2022-10-26','2022-11-01','2022-12-08','2022-12-25','2022-12-26',\n",
        "                        '2023-01-01','2023-01-06','2023-04-10','2023-05-01','2023-05-18','2023-05-29','2023-06-08','2023-08-15','2023-10-26','2023-11-01','2023-12-08','2023-12-25','2023-12-26',\n",
        "                        '2024-01-01','2024-01-06','2024-04-01','2024-05-01','2024-05-09','2024-05-20','2024-05-30','2024-08-15','2024-10-26','2024-11-01','2024-12-08','2024-12-25','2024-12-26',\n",
        "                        '2025-01-01','2025-01-06','2025-04-21','2025-05-01','2025-05-29','2025-06-09','2025-06-19','2025-08-15','2025-10-26','2025-11-01','2025-12-08','2025-12-25','2025-12-26']),\n",
        "  'lower_window': 0,'upper_window': 0,})\n",
        "\n",
        "holidays_BE = pd.DataFrame({'holiday': 'holidays_BE',\n",
        "  'ds': pd.to_datetime(['2022-01-01','2022-04-17','2022-04-18','2022-05-01','2022-05-26','2022-06-06','2022-07-21','2022-08-15','2022-11-01','2022-11-11','2022-12-25',\n",
        "                        '2023-01-01','2023-04-09','2023-04-10','2023-05-01','2023-05-18','2023-05-29','2023-07-21','2023-08-15','2023-11-01','2023-11-11','2023-12-25',\n",
        "                        '2024-01-01','2024-03-31','2024-04-01','2024-05-01','2024-05-09','2024-05-20','2024-07-21','2024-08-15','2024-11-01','2024-11-11','2024-12-25',\n",
        "                        '2025-01-01','2025-04-20','2025-04-21','2025-05-01','2025-05-29','2025-06-09','2025-07-21','2025-08-15','2025-11-01','2025-11-11','2025-12-25']),\n",
        "  'lower_window': 0,'upper_window': 0,})\n",
        "\n",
        "holidays_DE = pd.DataFrame({'holiday': 'holidays_DE',\n",
        "  'ds': pd.to_datetime(['2022-01-01','2022-04-15','2022-04-18','2022-05-01','2022-05-26','2022-06-06','2022-10-03','2022-12-25','2022-12-26',\n",
        "                        '2023-01-01','2023-04-07','2023-04-10','2023-05-01','2023-05-18','2023-05-29','2023-10-03','2023-12-25','2023-12-26',\n",
        "                        '2024-01-01','2024-03-29','2024-04-01','2024-05-01','2024-05-09','2024-05-20','2024-10-03','2024-12-25','2024-12-26',\n",
        "                        '2025-01-01','2025-04-18','2025-04-21','2025-05-01','2025-05-29','2025-06-09','2025-10-03','2025-12-25','2025-12-26']),\n",
        "  'lower_window': 0,'upper_window': 0,})\n",
        "\n",
        "holidays_DK = pd.DataFrame({'holiday': 'holidays_DK',\n",
        "  'ds': pd.to_datetime(['2022-01-01','2022-04-14','2022-04-15','2022-04-18','2022-05-13','2022-05-26','2022-06-05','2022-06-06','2022-12-24','2022-12-25','2022-12-26',\n",
        "                        '2023-01-01','2023-04-06','2023-04-07','2023-04-10','2023-05-05','2023-05-18','2023-05-28','2023-05-29','2023-12-24','2023-12-25','2023-12-26',\n",
        "                        '2024-01-01','2024-03-28','2024-03-29','2024-04-01','2024-05-09','2024-05-19','2024-05-20','2024-12-24','2024-12-25','2024-12-26',\n",
        "                        '2025-01-01','2025-04-17','2025-04-18','2025-04-21','2025-05-29','2025-06-08','2025-06-09','2025-12-24','2025-12-25','2025-12-26']),\n",
        "  'lower_window': 0,'upper_window': 0,})\n",
        "\n",
        "holidays_ES = pd.DataFrame({'holiday': 'holidays_ES',\n",
        "  'ds': pd.to_datetime(['2022-01-01','2022-01-06','2022-04-15','2022-05-01','2022-08-15','2022-10-12','2022-11-01','2022-12-06','2022-12-08','2022-12-25',\n",
        "                        '2023-01-01','2023-01-06','2023-04-07','2023-05-01','2023-08-15','2023-10-12','2023-11-01','2023-12-06','2023-12-08','2023-12-25',\n",
        "                        '2024-01-01','2024-01-06','2024-03-29','2024-05-01','2024-08-15','2024-10-12','2024-11-01','2024-12-06','2024-12-08','2024-12-25',\n",
        "                        '2025-01-01','2025-01-06','2025-04-18','2025-05-01','2025-08-15','2025-10-12','2025-11-01','2025-12-06','2025-12-08','2025-12-25']),\n",
        "  'lower_window': 0,'upper_window': 0,})\n",
        "\n",
        "holidays_FI = pd.DataFrame({'holiday': 'holidays_FI',\n",
        "  'ds': pd.to_datetime(['2022-01-01','2022-01-06','2022-04-15','2022-04-18','2022-05-01','2022-05-08','2022-05-26','2022-06-24','2022-06-25','2022-11-05','2022-11-13','2022-12-06','2022-12-24','2022-12-25','2022-12-26',\n",
        "                        '2023-01-01','2023-01-06','2023-04-07','2023-04-10','2023-05-01','2023-05-14','2023-05-18','2023-06-23','2023-06-24','2023-11-04','2023-11-12','2023-12-06','2023-12-24','2023-12-25','2023-12-26',\n",
        "                        '2024-01-01','2024-01-06','2024-03-29','2024-04-01','2024-05-01','2024-05-09','2024-05-12','2024-06-21','2024-06-22','2024-11-02','2024-11-10','2024-12-06','2024-12-24','2024-12-25','2024-12-26',\n",
        "                        '2025-01-01','2025-01-06','2025-04-18','2025-04-21','2025-05-01','2025-05-11','2025-05-29','2025-06-20','2025-06-21','2025-11-01','2025-11-09','2025-12-06','2025-12-24','2025-12-25','2025-12-26']),\n",
        "  'lower_window': 0,'upper_window': 0,})\n",
        "\n",
        "holidays_FR = pd.DataFrame({'holiday': 'holidays_FR',\n",
        "  'ds': pd.to_datetime(['2022-01-01','2022-04-18','2022-05-01','2022-05-08','2022-05-26','2022-06-06','2022-07-14','2022-08-15','2022-11-01','2022-11-11','2022-12-25',\n",
        "                        '2023-01-01','2023-04-10','2023-05-01','2023-05-08','2023-05-18','2023-05-29','2023-07-14','2023-08-15','2023-11-01','2023-11-11','2023-12-25',\n",
        "                        '2024-01-01','2024-04-01','2024-05-01','2024-05-08','2024-05-09','2024-05-20','2024-07-14','2024-08-15','2024-11-01','2024-11-11','2024-12-25',\n",
        "                        '2025-01-01','2025-04-21','2025-05-01','2025-05-08','2025-05-29','2025-06-09','2025-07-14','2025-08-15','2025-11-01','2025-11-11','2025-12-25']),\n",
        "  'lower_window': 0,'upper_window': 0,})\n",
        "\n",
        "holidays_GB = pd.DataFrame({'holiday': 'holidays_GB',\n",
        "  'ds': pd.to_datetime(['2022-01-01','2022-01-03','2022-04-15','2022-05-02','2022-06-02','2022-06-03','2022-09-19','2022-12-25','2022-12-26','2022-12-27',\n",
        "                        '2023-01-01','2023-01-02','2023-04-07','2023-05-01','2023-05-08','2023-05-29','2023-12-25','2023-12-26',\n",
        "                        '2024-01-01','2024-03-29','2024-05-06','2024-05-27','2024-12-25','2024-12-26',\n",
        "                        '2025-01-01','2025-04-18','2025-05-05','2025-05-26','2025-12-25','2025-12-26']),\n",
        "  'lower_window': 0,'upper_window': 0,})\n",
        "\n",
        "holidays_IE = pd.DataFrame({'holiday': 'holidays_IE',\n",
        "  'ds': pd.to_datetime(['2022-01-01','2022-03-17','2022-03-18','2022-04-18','2022-05-02','2022-06-06','2022-08-01','2022-10-31','2022-12-25','2022-12-26',\n",
        "                        '2023-01-01','2023-02-06','2023-03-17','2023-04-10','2023-05-01','2023-06-05','2023-08-07','2023-10-30','2023-12-25','2023-12-26',\n",
        "                        '2024-01-01','2024-02-05','2024-03-17','2024-04-01','2024-05-06','2024-06-03','2024-08-05','2024-10-28','2024-12-25','2024-12-26',\n",
        "                        '2025-01-01','2025-02-03','2025-03-17','2025-04-21','2025-05-05','2025-06-02','2025-08-04','2025-10-27','2025-12-25','2025-12-26']),\n",
        "  'lower_window': 0,'upper_window': 0,})\n",
        "\n",
        "holidays_NL = pd.DataFrame({'holiday': 'holidays_NL',\n",
        "  'ds': pd.to_datetime(['2022-01-01','2022-04-17','2022-04-18','2022-04-27','2022-05-26','2022-06-05','2022-06-06','2022-12-25','2022-12-26',\n",
        "                        '2023-01-01','2023-04-09','2023-04-10','2023-04-27','2023-05-18','2023-05-28','2023-05-29','2023-12-25','2023-12-26',\n",
        "                        '2024-01-01','2024-03-31','2024-04-01','2024-04-27','2024-05-09','2024-05-19','2024-05-20','2024-12-25','2024-12-26',\n",
        "                        '2025-01-01','2025-04-20','2025-04-21','2025-04-26','2025-05-05','2025-05-29','2025-06-08','2025-06-09','2025-12-25','2025-12-26']),\n",
        "  'lower_window': 0,'upper_window': 0,})\n",
        "\n",
        "holidays_PT = pd.DataFrame({'holiday': 'holidays_PT',\n",
        "  'ds': pd.to_datetime(['2022-01-01','2022-04-15','2022-04-17','2022-04-25','2022-05-01','2022-06-10','2022-06-16','2022-08-15','2022-10-05','2022-11-01','2022-12-01','2022-12-08','2022-12-25',\n",
        "                        '2023-01-01','2023-04-07','2023-04-09','2023-04-25','2023-05-01','2023-06-08','2023-06-10','2023-08-15','2023-10-05','2023-11-01','2023-12-01','2023-12-08','2023-12-25',\n",
        "                        '2024-01-01','2024-03-29','2024-03-31','2024-04-25','2024-05-01','2024-05-30','2024-06-10','2024-08-15','2024-10-05','2024-11-01','2024-12-01','2024-12-08','2024-12-25',\n",
        "                        '2025-01-01','2025-04-18','2025-04-20','2025-04-25','2025-05-01','2025-06-10','2025-06-19','2025-08-15','2025-10-05','2025-11-01','2025-12-01','2025-12-08','2025-12-25']),\n",
        "  'lower_window': 0,'upper_window': 0,})\n",
        "\n",
        "holidays_SE = pd.DataFrame({'holiday': 'holidays_SE',\n",
        "  'ds': pd.to_datetime(['2022-01-01','2022-01-06','2022-04-15','2022-04-17','2022-04-18','2022-05-01','2022-05-26','2022-06-05','2022-06-06','2022-06-24','2022-06-25','2022-11-05','2022-12-24','2022-12-25','2022-12-26','2022-12-31',\n",
        "                        '2023-01-01','2023-01-06','2023-04-07','2023-04-09','2023-04-10','2023-05-01','2023-05-18','2023-05-28','2023-06-06','2023-06-23','2023-06-24','2023-11-04','2023-12-24','2023-12-25','2023-12-26','2023-12-31',\n",
        "                        '2024-01-01','2024-01-06','2024-03-29','2024-03-31','2024-04-01','2024-05-01','2024-05-09','2024-05-19','2024-06-06','2024-06-21','2024-06-22','2024-11-02','2024-12-24','2024-12-25','2024-12-26','2024-12-31',\n",
        "                        '2025-01-01','2025-01-06','2025-04-18','2025-04-20','2025-04-21','2025-05-01','2025-05-29','2025-06-06','2025-06-08','2025-06-20','2025-06-21','2025-11-01','2025-12-24','2025-12-25','2025-12-26','2025-12-31']),\n",
        "  'lower_window': 0,'upper_window': 0,})\n",
        "\n",
        "holidays_OTHER = pd.DataFrame({'holiday': 'holidays_OTHER',\n",
        "  'ds': pd.to_datetime(['2022-01-01','2023-01-01','2024-01-01','2024-12-25','2025-01-01','2025-12-25']),\n",
        "  'lower_window': 0,'upper_window': 0,})\n"
      ]
    },
    {
      "cell_type": "code",
      "execution_count": null,
      "id": "523213de-348a-4f40-925f-7fd025f886ac",
      "metadata": {
        "id": "523213de-348a-4f40-925f-7fd025f886ac"
      },
      "outputs": [],
      "source": []
    },
    {
      "cell_type": "markdown",
      "id": "123e2606-6ce4-4fe0-9487-df54efbaacfa",
      "metadata": {
        "tags": [],
        "id": "123e2606-6ce4-4fe0-9487-df54efbaacfa"
      },
      "source": [
        "# **Spend Forecast - Prophet parameters**"
      ]
    },
    {
      "cell_type": "code",
      "execution_count": null,
      "id": "a214e48b-31bf-468b-b297-eaf12b03c125",
      "metadata": {
        "tags": [],
        "id": "a214e48b-31bf-468b-b297-eaf12b03c125"
      },
      "outputs": [],
      "source": [
        "import logging, sys\n",
        "\n",
        "changepoint = 0.1 #https://facebook.github.io/prophet/docs/trend_changepoints.html\n",
        "\n",
        "n_periods = 210 # amount of days to forecast. 210 as the result of forecasting 150 plus 90 we use for test / train\n",
        "\n",
        "interval_width = 0.85 #the width of the uncertainty intervals (805 of the samples should fit between these boundaries)\n",
        "\n",
        "growth_spend = 'linear' #Flat, Linear, Logistic. The linear assumes an in(de)creasing trend whereas the flat does not.\n",
        "#PR for adding more growth trends in Prophet:  https://github.com/facebook/prophet/pull/1466/files\n",
        "\n",
        "fourier_order_yearly = 10 # determines how quickly the seasonality can change. By default for yearly is 10, monthly is 5 and weekly is 3. It can lead to overfitting.\n",
        "fourier_order_weekly = 7\n",
        "fourier_order_monthly = 5\n",
        "# https://medium.com/analytics-vidhya/how-does-prophet-work-part-2-c47a6ceac511"
      ]
    },
    {
      "cell_type": "code",
      "execution_count": null,
      "id": "0a79d4ed-d987-4bba-a885-349ad7e194f3",
      "metadata": {
        "tags": [],
        "id": "0a79d4ed-d987-4bba-a885-349ad7e194f3",
        "outputId": "2bc1f3cd-dbeb-4c55-a6bf-f307e18edbf0"
      },
      "outputs": [
        {
          "data": {
            "text/html": [
              "<div>\n",
              "<style scoped>\n",
              "    .dataframe tbody tr th:only-of-type {\n",
              "        vertical-align: middle;\n",
              "    }\n",
              "\n",
              "    .dataframe tbody tr th {\n",
              "        vertical-align: top;\n",
              "    }\n",
              "\n",
              "    .dataframe thead th {\n",
              "        text-align: right;\n",
              "    }\n",
              "</style>\n",
              "<table border=\"1\" class=\"dataframe\">\n",
              "  <thead>\n",
              "    <tr style=\"text-align: right;\">\n",
              "      <th></th>\n",
              "      <th>ds</th>\n",
              "      <th>country</th>\n",
              "      <th>y</th>\n",
              "    </tr>\n",
              "  </thead>\n",
              "  <tbody>\n",
              "    <tr>\n",
              "      <th>0</th>\n",
              "      <td>2024-04-18</td>\n",
              "      <td>ES</td>\n",
              "      <td>7.985397e+05</td>\n",
              "    </tr>\n",
              "    <tr>\n",
              "      <th>1</th>\n",
              "      <td>2022-05-19</td>\n",
              "      <td>GB</td>\n",
              "      <td>2.587917e+06</td>\n",
              "    </tr>\n",
              "    <tr>\n",
              "      <th>2</th>\n",
              "      <td>2023-01-09</td>\n",
              "      <td>Other Markets</td>\n",
              "      <td>1.244280e+05</td>\n",
              "    </tr>\n",
              "    <tr>\n",
              "      <th>3</th>\n",
              "      <td>2021-12-31</td>\n",
              "      <td>DK</td>\n",
              "      <td>6.346597e+05</td>\n",
              "    </tr>\n",
              "    <tr>\n",
              "      <th>4</th>\n",
              "      <td>2023-03-25</td>\n",
              "      <td>GB</td>\n",
              "      <td>2.469190e+06</td>\n",
              "    </tr>\n",
              "  </tbody>\n",
              "</table>\n",
              "</div>"
            ],
            "text/plain": [
              "          ds        country             y\n",
              "0 2024-04-18             ES  7.985397e+05\n",
              "1 2022-05-19             GB  2.587917e+06\n",
              "2 2023-01-09  Other Markets  1.244280e+05\n",
              "3 2021-12-31             DK  6.346597e+05\n",
              "4 2023-03-25             GB  2.469190e+06"
            ]
          },
          "execution_count": 10,
          "metadata": {},
          "output_type": "execute_result"
        }
      ],
      "source": [
        "df_spend = df1.drop(['spending_customer_count', 'spend_per_spending_customer'], axis=1)\n",
        "df_spend = df_spend.rename(columns={'performed_date': 'ds', 'spend': 'y'})\n",
        "df_spend.head()"
      ]
    },
    {
      "cell_type": "code",
      "execution_count": null,
      "id": "e4051e05-3043-49ee-b2ed-041ad571f203",
      "metadata": {
        "tags": [],
        "id": "e4051e05-3043-49ee-b2ed-041ad571f203",
        "outputId": "95672ab3-b20c-43c7-8667-53e795d6e90e"
      },
      "outputs": [
        {
          "data": {
            "text/plain": [
              "Timestamp('2024-06-26 00:00:00')"
            ]
          },
          "execution_count": 11,
          "metadata": {},
          "output_type": "execute_result"
        }
      ],
      "source": [
        "from datetime import datetime\n",
        "\n",
        "split_date = pd.to_datetime(datetime.now().date() - timedelta(days=90))\n",
        "\n",
        "split_date"
      ]
    },
    {
      "cell_type": "code",
      "execution_count": null,
      "id": "3505dba1-672c-4dfe-bfff-0d54a13affa1",
      "metadata": {
        "tags": [],
        "id": "3505dba1-672c-4dfe-bfff-0d54a13affa1",
        "outputId": "e0dd304f-6401-4498-d0bd-37c40b4d933e"
      },
      "outputs": [
        {
          "data": {
            "text/html": [
              "<div>\n",
              "<style scoped>\n",
              "    .dataframe tbody tr th:only-of-type {\n",
              "        vertical-align: middle;\n",
              "    }\n",
              "\n",
              "    .dataframe tbody tr th {\n",
              "        vertical-align: top;\n",
              "    }\n",
              "\n",
              "    .dataframe thead th {\n",
              "        text-align: right;\n",
              "    }\n",
              "</style>\n",
              "<table border=\"1\" class=\"dataframe\">\n",
              "  <thead>\n",
              "    <tr style=\"text-align: right;\">\n",
              "      <th></th>\n",
              "      <th>ds</th>\n",
              "      <th>country</th>\n",
              "      <th>y</th>\n",
              "    </tr>\n",
              "  </thead>\n",
              "  <tbody>\n",
              "    <tr>\n",
              "      <th>0</th>\n",
              "      <td>2024-04-18</td>\n",
              "      <td>ES</td>\n",
              "      <td>7.985397e+05</td>\n",
              "    </tr>\n",
              "    <tr>\n",
              "      <th>1</th>\n",
              "      <td>2022-05-19</td>\n",
              "      <td>GB</td>\n",
              "      <td>2.587917e+06</td>\n",
              "    </tr>\n",
              "    <tr>\n",
              "      <th>2</th>\n",
              "      <td>2023-01-09</td>\n",
              "      <td>Other Markets</td>\n",
              "      <td>1.244280e+05</td>\n",
              "    </tr>\n",
              "    <tr>\n",
              "      <th>3</th>\n",
              "      <td>2021-12-31</td>\n",
              "      <td>DK</td>\n",
              "      <td>6.346597e+05</td>\n",
              "    </tr>\n",
              "    <tr>\n",
              "      <th>4</th>\n",
              "      <td>2023-03-25</td>\n",
              "      <td>GB</td>\n",
              "      <td>2.469190e+06</td>\n",
              "    </tr>\n",
              "  </tbody>\n",
              "</table>\n",
              "</div>"
            ],
            "text/plain": [
              "          ds        country             y\n",
              "0 2024-04-18             ES  7.985397e+05\n",
              "1 2022-05-19             GB  2.587917e+06\n",
              "2 2023-01-09  Other Markets  1.244280e+05\n",
              "3 2021-12-31             DK  6.346597e+05\n",
              "4 2023-03-25             GB  2.469190e+06"
            ]
          },
          "execution_count": 12,
          "metadata": {},
          "output_type": "execute_result"
        }
      ],
      "source": [
        "# Using this split to add an error multiplier later on to adjust accuracy\n",
        "train_df_spend = df_spend.loc[df_spend['ds'] < split_date]\n",
        "test_df_spend = df_spend.loc[df_spend['ds'] >= split_date]\n",
        "\n",
        "train_df_spend.head()"
      ]
    },
    {
      "cell_type": "markdown",
      "id": "115ec62e-2f25-4ab4-bdef-8e39478fe29d",
      "metadata": {
        "tags": [],
        "id": "115ec62e-2f25-4ab4-bdef-8e39478fe29d"
      },
      "source": [
        "# **Spend Forecast - Prophet loop**"
      ]
    },
    {
      "cell_type": "code",
      "execution_count": null,
      "id": "f92ec874-474c-49b6-b803-e83fa452b140",
      "metadata": {
        "id": "f92ec874-474c-49b6-b803-e83fa452b140",
        "outputId": "ead9c5a3-f10f-414c-c8cd-8fdfb1473c31"
      },
      "outputs": [
        {
          "name": "stdout",
          "output_type": "stream",
          "text": [
            "start_time =  2024-09-24 07:57:53.536882\n",
            "end_time =  2024-09-24 07:57:59.014265\n",
            "The time used for the for-loop forecast is  0 days 00:00:05.477383\n"
          ]
        }
      ],
      "source": [
        "p = list()\n",
        "\n",
        "# Start time\n",
        "start_time = pd.Timestamp('now')\n",
        "print('start_time = ',start_time) #print('start_time = ',pd.Timestamp('now'))\n",
        "\n",
        "for country in train_df_spend['country'].unique():\n",
        "            logging.disable(sys.maxsize)\n",
        "\n",
        "            train = train_df_spend.loc[(train_df_spend['country'] == country) ]\n",
        "            test = test_df_spend.loc[(test_df_spend['country'] == country)]\n",
        "\n",
        "            holidays = pd.DataFrame ()\n",
        "            if country == 'AT':\n",
        "                holidays = holidays_AT\n",
        "            elif country == 'BE':\n",
        "                holidays = holidays_BE\n",
        "            elif country == 'DE':\n",
        "                holidays = holidays_DE\n",
        "            elif country == 'DK':\n",
        "                holidays = holidays_DK\n",
        "            elif country == 'ES':\n",
        "                holidays = holidays_ES\n",
        "            elif country == 'FI':\n",
        "                holidays = holidays_FI\n",
        "            elif country == 'FR':\n",
        "                holidays = holidays_FR\n",
        "            elif country == 'GB':\n",
        "                holidays = holidays_GB\n",
        "            elif country == 'IE':\n",
        "                holidays = holidays_IE\n",
        "            elif country == 'NL':\n",
        "                holidays = holidays_NL\n",
        "            elif country == 'PT':\n",
        "                holidays = holidays_PT\n",
        "            elif country == 'SE':\n",
        "                holidays = holidays_SE\n",
        "            else:\n",
        "                holidays = holidays_OTHER\n",
        "\n",
        "\n",
        "            #handling error if dataset not ready for training (\"ValueError: Dataframe has less than 2 non-NaN rows.\")\n",
        "            if train.shape[0] < 2:\n",
        "                continue\n",
        "\n",
        "            m = Prophet(growth = growth_spend, yearly_seasonality=True, weekly_seasonality=True, interval_width=interval_width)\n",
        "\n",
        "            if country != 'OTHER':\n",
        "\n",
        "                m = Prophet(yearly_seasonality=True, weekly_seasonality=True, interval_width = interval_width, holidays=holidays)\n",
        "            else:\n",
        "                m = Prophet(yearly_seasonality=True, weekly_seasonality=True, interval_width = interval_width)\n",
        "\n",
        "            m.add_seasonality(name='weekly', period = 7, fourier_order = fourier_order_weekly)\n",
        "            m.add_seasonality(name='monthly', period = 30, fourier_order = fourier_order_monthly)\n",
        "            m.add_seasonality(name='yearly', period = 12, fourier_order = fourier_order_yearly)\n",
        "\n",
        "            m.fit(train)\n",
        "\n",
        "            # Setting the forecast parameters\n",
        "            future_df = m.make_future_dataframe(periods = n_periods , include_history=True)\n",
        "            future_df['country'] = country\n",
        "\n",
        "            forecast_df = m.predict(future_df)\n",
        "\n",
        "            forecast_df['country'] = country\n",
        "\n",
        "            p.append(forecast_df[['ds', 'yhat', 'country']])\n",
        "    #forecast.tail()\n",
        "\n",
        "end_time = pd.Timestamp('now')\n",
        "print('end_time = ',end_time)\n",
        "print('The time used for the for-loop forecast is ', end_time-start_time)"
      ]
    },
    {
      "cell_type": "code",
      "execution_count": null,
      "id": "e01678bf-d53f-4940-88d1-38202efe4cea",
      "metadata": {
        "id": "e01678bf-d53f-4940-88d1-38202efe4cea",
        "outputId": "db98658f-cfe4-4b0e-a5e1-43a8471db864"
      },
      "outputs": [
        {
          "name": "stdout",
          "output_type": "stream",
          "text": [
            "The starting date of the forecast output is  2021-02-01 00:00:00  and the last date of the forecast output is  2025-01-21 00:00:00\n"
          ]
        }
      ],
      "source": [
        "p_backup = p #creating a backup dataset\n",
        "\n",
        "p = pd.concat(p, ignore_index=True)\n",
        "p['yhat'] = p['yhat'].clip(lower=0) #excluding records where the forecast < 0\n",
        "\n",
        "print(\"The starting date of the forecast output is \", p[\"ds\"].min(), \" and the last date of the forecast output is \", p[\"ds\"].max() )"
      ]
    },
    {
      "cell_type": "code",
      "execution_count": null,
      "id": "6e2502a3-4a7c-4fe7-8151-cce08f0528de",
      "metadata": {
        "tags": [],
        "id": "6e2502a3-4a7c-4fe7-8151-cce08f0528de",
        "outputId": "14b5bcb2-7560-4d9a-e43f-fdb6ee714c5e"
      },
      "outputs": [
        {
          "data": {
            "text/html": [
              "<div>\n",
              "<style scoped>\n",
              "    .dataframe tbody tr th:only-of-type {\n",
              "        vertical-align: middle;\n",
              "    }\n",
              "\n",
              "    .dataframe tbody tr th {\n",
              "        vertical-align: top;\n",
              "    }\n",
              "\n",
              "    .dataframe thead th {\n",
              "        text-align: right;\n",
              "    }\n",
              "</style>\n",
              "<table border=\"1\" class=\"dataframe\">\n",
              "  <thead>\n",
              "    <tr style=\"text-align: right;\">\n",
              "      <th></th>\n",
              "      <th>ds</th>\n",
              "      <th>yhat</th>\n",
              "    </tr>\n",
              "  </thead>\n",
              "  <tbody>\n",
              "    <tr>\n",
              "      <th>count</th>\n",
              "      <td>11404</td>\n",
              "      <td>1.140400e+04</td>\n",
              "    </tr>\n",
              "    <tr>\n",
              "      <th>mean</th>\n",
              "      <td>2023-02-07 06:27:08.902139648</td>\n",
              "      <td>7.211249e+05</td>\n",
              "    </tr>\n",
              "    <tr>\n",
              "      <th>min</th>\n",
              "      <td>2021-02-01 00:00:00</td>\n",
              "      <td>0.000000e+00</td>\n",
              "    </tr>\n",
              "    <tr>\n",
              "      <th>25%</th>\n",
              "      <td>2022-02-17 00:00:00</td>\n",
              "      <td>9.427643e+04</td>\n",
              "    </tr>\n",
              "    <tr>\n",
              "      <th>50%</th>\n",
              "      <td>2023-02-09 00:00:00</td>\n",
              "      <td>4.037128e+05</td>\n",
              "    </tr>\n",
              "    <tr>\n",
              "      <th>75%</th>\n",
              "      <td>2024-01-31 00:00:00</td>\n",
              "      <td>1.016384e+06</td>\n",
              "    </tr>\n",
              "    <tr>\n",
              "      <th>max</th>\n",
              "      <td>2025-01-21 00:00:00</td>\n",
              "      <td>4.649281e+06</td>\n",
              "    </tr>\n",
              "    <tr>\n",
              "      <th>std</th>\n",
              "      <td>NaN</td>\n",
              "      <td>8.803832e+05</td>\n",
              "    </tr>\n",
              "  </tbody>\n",
              "</table>\n",
              "</div>"
            ],
            "text/plain": [
              "                                  ds          yhat\n",
              "count                          11404  1.140400e+04\n",
              "mean   2023-02-07 06:27:08.902139648  7.211249e+05\n",
              "min              2021-02-01 00:00:00  0.000000e+00\n",
              "25%              2022-02-17 00:00:00  9.427643e+04\n",
              "50%              2023-02-09 00:00:00  4.037128e+05\n",
              "75%              2024-01-31 00:00:00  1.016384e+06\n",
              "max              2025-01-21 00:00:00  4.649281e+06\n",
              "std                              NaN  8.803832e+05"
            ]
          },
          "execution_count": 15,
          "metadata": {},
          "output_type": "execute_result"
        }
      ],
      "source": [
        "p.describe()"
      ]
    },
    {
      "cell_type": "markdown",
      "id": "020949c6-8f17-4c1c-a3a1-0a8e740d1fce",
      "metadata": {
        "tags": [],
        "id": "020949c6-8f17-4c1c-a3a1-0a8e740d1fce"
      },
      "source": [
        "# **Forecast Accuracy**"
      ]
    },
    {
      "cell_type": "code",
      "execution_count": null,
      "id": "98c0751d-9968-4f2d-9dda-a09cdad222c5",
      "metadata": {
        "tags": [],
        "id": "98c0751d-9968-4f2d-9dda-a09cdad222c5",
        "outputId": "6ddeae15-3e5a-46b7-c359-70b69e203241"
      },
      "outputs": [
        {
          "data": {
            "text/html": [
              "<div>\n",
              "<style scoped>\n",
              "    .dataframe tbody tr th:only-of-type {\n",
              "        vertical-align: middle;\n",
              "    }\n",
              "\n",
              "    .dataframe tbody tr th {\n",
              "        vertical-align: top;\n",
              "    }\n",
              "\n",
              "    .dataframe thead th {\n",
              "        text-align: right;\n",
              "    }\n",
              "</style>\n",
              "<table border=\"1\" class=\"dataframe\">\n",
              "  <thead>\n",
              "    <tr style=\"text-align: right;\">\n",
              "      <th></th>\n",
              "      <th>ds</th>\n",
              "      <th>spend_forecast</th>\n",
              "      <th>country</th>\n",
              "      <th>spend_actual</th>\n",
              "      <th>error_spend</th>\n",
              "      <th>day_of_week</th>\n",
              "    </tr>\n",
              "  </thead>\n",
              "  <tbody>\n",
              "    <tr>\n",
              "      <th>1231</th>\n",
              "      <td>2024-06-26</td>\n",
              "      <td>674056.246814</td>\n",
              "      <td>ES</td>\n",
              "      <td>748526.74</td>\n",
              "      <td>0.901</td>\n",
              "      <td>2</td>\n",
              "    </tr>\n",
              "    <tr>\n",
              "      <th>1232</th>\n",
              "      <td>2024-06-27</td>\n",
              "      <td>688189.164226</td>\n",
              "      <td>ES</td>\n",
              "      <td>804775.50</td>\n",
              "      <td>0.855</td>\n",
              "      <td>3</td>\n",
              "    </tr>\n",
              "    <tr>\n",
              "      <th>1233</th>\n",
              "      <td>2024-06-28</td>\n",
              "      <td>685628.927292</td>\n",
              "      <td>ES</td>\n",
              "      <td>769922.49</td>\n",
              "      <td>0.891</td>\n",
              "      <td>4</td>\n",
              "    </tr>\n",
              "    <tr>\n",
              "      <th>1234</th>\n",
              "      <td>2024-06-29</td>\n",
              "      <td>635269.528225</td>\n",
              "      <td>ES</td>\n",
              "      <td>670441.13</td>\n",
              "      <td>0.948</td>\n",
              "      <td>5</td>\n",
              "    </tr>\n",
              "    <tr>\n",
              "      <th>1235</th>\n",
              "      <td>2024-06-30</td>\n",
              "      <td>452175.729044</td>\n",
              "      <td>ES</td>\n",
              "      <td>297576.90</td>\n",
              "      <td>1.520</td>\n",
              "      <td>6</td>\n",
              "    </tr>\n",
              "  </tbody>\n",
              "</table>\n",
              "</div>"
            ],
            "text/plain": [
              "             ds  spend_forecast country  spend_actual  error_spend  \\\n",
              "1231 2024-06-26   674056.246814      ES     748526.74        0.901   \n",
              "1232 2024-06-27   688189.164226      ES     804775.50        0.855   \n",
              "1233 2024-06-28   685628.927292      ES     769922.49        0.891   \n",
              "1234 2024-06-29   635269.528225      ES     670441.13        0.948   \n",
              "1235 2024-06-30   452175.729044      ES     297576.90        1.520   \n",
              "\n",
              "      day_of_week  \n",
              "1231            2  \n",
              "1232            3  \n",
              "1233            4  \n",
              "1234            5  \n",
              "1235            6  "
            ]
          },
          "execution_count": 16,
          "metadata": {},
          "output_type": "execute_result"
        }
      ],
      "source": [
        "# Importing statistical modules\n",
        "\n",
        "from sklearn.metrics import mean_squared_error, r2_score, mean_absolute_error\n",
        "\n",
        "# Creating df with metrics to evaluate model accuracy\n",
        "\n",
        "metric_df = p.merge(test_df_spend, how=\"outer\", on=['ds', 'country'])\n",
        "\n",
        "metric_df = metric_df.rename(columns={'yhat': 'spend_forecast', 'y': 'spend_actual'})\n",
        "\n",
        "metric_df['error_spend'] = round( metric_df['spend_forecast'] / metric_df['spend_actual'], 3) # how much bigger or lower is the forecast compared to the actuals ?\n",
        "\n",
        "metric_df['day_of_week'] = metric_df['ds'].dt.dayofweek\n",
        "\n",
        "metric_df.dropna(inplace=True)\n",
        "metric_df.head()"
      ]
    },
    {
      "cell_type": "code",
      "execution_count": null,
      "id": "6fb9d653-0e3c-407c-aa6d-2f9c6de8a10b",
      "metadata": {
        "tags": [],
        "id": "6fb9d653-0e3c-407c-aa6d-2f9c6de8a10b",
        "outputId": "f83f5fe4-7914-4633-a289-00c250c93d1f"
      },
      "outputs": [
        {
          "name": "stdout",
          "output_type": "stream",
          "text": [
            "The starting date of the train output is  2024-06-26 00:00:00  and the last date of the train output is  2024-09-24 00:00:00\n",
            "The starting date of the forecast output is  2021-02-01 00:00:00  and the last date of the forecast output is  2025-01-21 00:00:00\n"
          ]
        }
      ],
      "source": [
        "print(\"The starting date of the train output is \", metric_df[\"ds\"].min(), \" and the last date of the train output is \", metric_df[\"ds\"].max() )\n",
        "print(\"The starting date of the forecast output is \", p[\"ds\"].min(), \" and the last date of the forecast output is \", p[\"ds\"].max() )\n",
        "\n",
        "#metric_df is the df that I use to calculate the forecast error.\n",
        "#This contains 90 days prior to the current date as declared in the train / test split\n",
        "#The error multiplier that I create here should be applied to the actual forecast which is p\n"
      ]
    },
    {
      "cell_type": "code",
      "execution_count": null,
      "id": "a4a7ef6c-a0c8-4896-96fc-0d44498f652d",
      "metadata": {
        "tags": [],
        "id": "a4a7ef6c-a0c8-4896-96fc-0d44498f652d",
        "outputId": "60c91575-3522-47c4-fa51-49d8e8e6d7f5"
      },
      "outputs": [
        {
          "name": "stdout",
          "output_type": "stream",
          "text": [
            "The overall R2 SCORE accuracy is  0.89\n",
            "The overall MSE is  127884819020.48\n",
            "The overall MAE is  199895.32\n"
          ]
        }
      ],
      "source": [
        "print(\"The overall R2 SCORE accuracy is \", round( r2_score (metric_df.spend_forecast, metric_df.spend_actual ), 2))\n",
        "print(\"The overall MSE is \", round( mean_squared_error (metric_df.spend_forecast, metric_df.spend_actual ), 2))\n",
        "print(\"The overall MAE is \", round( mean_absolute_error (metric_df.spend_forecast, metric_df.spend_actual ), 2))\n",
        "\n",
        "# R2 tells about the correlation between two datasets while MSE talks about the differente between them.\n"
      ]
    },
    {
      "cell_type": "code",
      "execution_count": null,
      "id": "710f3b6b-fc8e-4315-9824-bacad3d53102",
      "metadata": {
        "tags": [],
        "id": "710f3b6b-fc8e-4315-9824-bacad3d53102"
      },
      "outputs": [],
      "source": [
        "error_prep = metric_df[['country','day_of_week','error_spend']]\n",
        "\n",
        "error_df = error_prep.groupby(['country','day_of_week']).mean().reset_index()"
      ]
    },
    {
      "cell_type": "markdown",
      "id": "1d8351f2-032e-439b-b7e3-b05111ad7293",
      "metadata": {
        "tags": [],
        "id": "1d8351f2-032e-439b-b7e3-b05111ad7293"
      },
      "source": [
        "# **Adding Multiplier**"
      ]
    },
    {
      "cell_type": "code",
      "execution_count": null,
      "id": "bee75857-5e0b-433e-b126-06c56b85de74",
      "metadata": {
        "tags": [],
        "id": "bee75857-5e0b-433e-b126-06c56b85de74",
        "outputId": "3c2e8e61-bdf9-40f4-a84b-8534f756c4bf"
      },
      "outputs": [
        {
          "data": {
            "text/html": [
              "<div>\n",
              "<style scoped>\n",
              "    .dataframe tbody tr th:only-of-type {\n",
              "        vertical-align: middle;\n",
              "    }\n",
              "\n",
              "    .dataframe tbody tr th {\n",
              "        vertical-align: top;\n",
              "    }\n",
              "\n",
              "    .dataframe thead th {\n",
              "        text-align: right;\n",
              "    }\n",
              "</style>\n",
              "<table border=\"1\" class=\"dataframe\">\n",
              "  <thead>\n",
              "    <tr style=\"text-align: right;\">\n",
              "      <th></th>\n",
              "      <th>ds</th>\n",
              "      <th>yhat</th>\n",
              "      <th>country</th>\n",
              "    </tr>\n",
              "  </thead>\n",
              "  <tbody>\n",
              "    <tr>\n",
              "      <th>0</th>\n",
              "      <td>2021-02-01</td>\n",
              "      <td>0.000000</td>\n",
              "      <td>ES</td>\n",
              "    </tr>\n",
              "    <tr>\n",
              "      <th>1</th>\n",
              "      <td>2021-02-08</td>\n",
              "      <td>0.000000</td>\n",
              "      <td>ES</td>\n",
              "    </tr>\n",
              "    <tr>\n",
              "      <th>2</th>\n",
              "      <td>2021-02-15</td>\n",
              "      <td>0.000000</td>\n",
              "      <td>ES</td>\n",
              "    </tr>\n",
              "    <tr>\n",
              "      <th>3</th>\n",
              "      <td>2021-02-22</td>\n",
              "      <td>0.000000</td>\n",
              "      <td>ES</td>\n",
              "    </tr>\n",
              "    <tr>\n",
              "      <th>4</th>\n",
              "      <td>2021-03-01</td>\n",
              "      <td>0.000000</td>\n",
              "      <td>ES</td>\n",
              "    </tr>\n",
              "    <tr>\n",
              "      <th>...</th>\n",
              "      <td>...</td>\n",
              "      <td>...</td>\n",
              "      <td>...</td>\n",
              "    </tr>\n",
              "    <tr>\n",
              "      <th>11399</th>\n",
              "      <td>2024-12-22</td>\n",
              "      <td>39758.410938</td>\n",
              "      <td>FR</td>\n",
              "    </tr>\n",
              "    <tr>\n",
              "      <th>11400</th>\n",
              "      <td>2024-12-29</td>\n",
              "      <td>40776.687107</td>\n",
              "      <td>FR</td>\n",
              "    </tr>\n",
              "    <tr>\n",
              "      <th>11401</th>\n",
              "      <td>2025-01-05</td>\n",
              "      <td>40658.536555</td>\n",
              "      <td>FR</td>\n",
              "    </tr>\n",
              "    <tr>\n",
              "      <th>11402</th>\n",
              "      <td>2025-01-12</td>\n",
              "      <td>42856.104128</td>\n",
              "      <td>FR</td>\n",
              "    </tr>\n",
              "    <tr>\n",
              "      <th>11403</th>\n",
              "      <td>2025-01-19</td>\n",
              "      <td>43498.112804</td>\n",
              "      <td>FR</td>\n",
              "    </tr>\n",
              "  </tbody>\n",
              "</table>\n",
              "<p>11404 rows × 3 columns</p>\n",
              "</div>"
            ],
            "text/plain": [
              "              ds          yhat country\n",
              "0     2021-02-01      0.000000      ES\n",
              "1     2021-02-08      0.000000      ES\n",
              "2     2021-02-15      0.000000      ES\n",
              "3     2021-02-22      0.000000      ES\n",
              "4     2021-03-01      0.000000      ES\n",
              "...          ...           ...     ...\n",
              "11399 2024-12-22  39758.410938      FR\n",
              "11400 2024-12-29  40776.687107      FR\n",
              "11401 2025-01-05  40658.536555      FR\n",
              "11402 2025-01-12  42856.104128      FR\n",
              "11403 2025-01-19  43498.112804      FR\n",
              "\n",
              "[11404 rows x 3 columns]"
            ]
          },
          "execution_count": 20,
          "metadata": {},
          "output_type": "execute_result"
        }
      ],
      "source": [
        "p[\"day_of_week\"] = p['ds'].dt.dayofweek\n",
        "\n",
        "#joining the average error per week day\n",
        "p_adjusted = p.merge(error_df, how=\"outer\", on=['country', 'day_of_week'])\n",
        "\n",
        "p_adjusted[\"yhat\"] = p_adjusted[\"yhat\"] / p_adjusted[\"error_spend\"]\n",
        "\n",
        "p_adjusted = p_adjusted.drop(['day_of_week', 'error_spend'], axis=1)\n",
        "\n",
        "p_adjusted"
      ]
    },
    {
      "cell_type": "markdown",
      "id": "e72553df-541d-46bb-992c-241156821796",
      "metadata": {
        "tags": [],
        "id": "e72553df-541d-46bb-992c-241156821796"
      },
      "source": [
        "# **Push data to BQ**"
      ]
    },
    {
      "cell_type": "code",
      "execution_count": null,
      "id": "f2bc869d-af55-43fb-8dca-b42f95f4e73b",
      "metadata": {
        "tags": [],
        "id": "f2bc869d-af55-43fb-8dca-b42f95f4e73b"
      },
      "outputs": [],
      "source": [
        "p_adjusted['month'] = p_adjusted['ds'].dt.strftime('%Y-%m-01')\n",
        "p_adjusted[\"run_date\"] = pd.Timestamp('now')#.date()\n",
        "\n",
        "p_adjusted[\"month\"] = pd.to_datetime(p_adjusted[\"month\"])#.strftime('%Y-%m-%d')\n",
        "p_adjusted[\"run_date\"] = pd.to_datetime(p_adjusted[\"run_date\"])#.strftime('%Y-%m-%d')\n",
        "\n",
        "p_adjusted[\"category\"] = \"ALL\" # The model\n",
        "\n",
        "#Renaming according to the existing materialized table in BQ\n",
        "#finance_external_sources.spend_forecast_per_country_only_model_results\n",
        "\n",
        "p_adjusted = p_adjusted.rename(columns={\"spend_type\": \"product\"})\n",
        "\n",
        "desired_order = ['ds', 'yhat', 'country', 'month', 'run_date']\n",
        "\n",
        "p_adjusted = p_adjusted[desired_order]"
      ]
    },
    {
      "cell_type": "code",
      "execution_count": null,
      "id": "41ffa281-6f9c-4a85-91f9-c7382d9af610",
      "metadata": {
        "tags": [],
        "id": "41ffa281-6f9c-4a85-91f9-c7382d9af610",
        "outputId": "e158798a-28db-4dde-8258-ff454c957474"
      },
      "outputs": [
        {
          "data": {
            "text/plain": [
              "ds          datetime64[ns]\n",
              "yhat               float64\n",
              "country             object\n",
              "month       datetime64[ns]\n",
              "run_date    datetime64[ns]\n",
              "dtype: object"
            ]
          },
          "execution_count": 22,
          "metadata": {},
          "output_type": "execute_result"
        }
      ],
      "source": [
        "p_adjusted[\"month\"] = pd.to_datetime(p_adjusted[\"month\"])#.strftime('%Y-%m-%d')\n",
        "p_adjusted.dtypes"
      ]
    },
    {
      "cell_type": "code",
      "execution_count": null,
      "id": "7a2a9a6a-4ed2-4919-8531-116a13d7cd13",
      "metadata": {
        "tags": [],
        "id": "7a2a9a6a-4ed2-4919-8531-116a13d7cd13",
        "outputId": "bf9b461d-4c11-46e9-bb2d-e003a911f301"
      },
      "outputs": [
        {
          "data": {
            "text/html": [
              "<div>\n",
              "<style scoped>\n",
              "    .dataframe tbody tr th:only-of-type {\n",
              "        vertical-align: middle;\n",
              "    }\n",
              "\n",
              "    .dataframe tbody tr th {\n",
              "        vertical-align: top;\n",
              "    }\n",
              "\n",
              "    .dataframe thead th {\n",
              "        text-align: right;\n",
              "    }\n",
              "</style>\n",
              "<table border=\"1\" class=\"dataframe\">\n",
              "  <thead>\n",
              "    <tr style=\"text-align: right;\">\n",
              "      <th></th>\n",
              "      <th>ds</th>\n",
              "      <th>yhat</th>\n",
              "      <th>country</th>\n",
              "      <th>month</th>\n",
              "      <th>run_date</th>\n",
              "    </tr>\n",
              "  </thead>\n",
              "  <tbody>\n",
              "    <tr>\n",
              "      <th>0</th>\n",
              "      <td>2021-02-01</td>\n",
              "      <td>0.000000</td>\n",
              "      <td>ES</td>\n",
              "      <td>2021-02-01</td>\n",
              "      <td>2024-09-24 07:57:59.348174</td>\n",
              "    </tr>\n",
              "    <tr>\n",
              "      <th>1</th>\n",
              "      <td>2021-02-02</td>\n",
              "      <td>34478.988747</td>\n",
              "      <td>ES</td>\n",
              "      <td>2021-02-01</td>\n",
              "      <td>2024-09-24 07:57:59.348174</td>\n",
              "    </tr>\n",
              "    <tr>\n",
              "      <th>2</th>\n",
              "      <td>2021-02-03</td>\n",
              "      <td>56768.244301</td>\n",
              "      <td>ES</td>\n",
              "      <td>2021-02-01</td>\n",
              "      <td>2024-09-24 07:57:59.348174</td>\n",
              "    </tr>\n",
              "    <tr>\n",
              "      <th>3</th>\n",
              "      <td>2021-02-04</td>\n",
              "      <td>65547.633568</td>\n",
              "      <td>ES</td>\n",
              "      <td>2021-02-01</td>\n",
              "      <td>2024-09-24 07:57:59.348174</td>\n",
              "    </tr>\n",
              "    <tr>\n",
              "      <th>4</th>\n",
              "      <td>2021-02-05</td>\n",
              "      <td>60346.240428</td>\n",
              "      <td>ES</td>\n",
              "      <td>2021-02-01</td>\n",
              "      <td>2024-09-24 07:57:59.348174</td>\n",
              "    </tr>\n",
              "    <tr>\n",
              "      <th>...</th>\n",
              "      <td>...</td>\n",
              "      <td>...</td>\n",
              "      <td>...</td>\n",
              "      <td>...</td>\n",
              "      <td>...</td>\n",
              "    </tr>\n",
              "    <tr>\n",
              "      <th>11399</th>\n",
              "      <td>2025-01-17</td>\n",
              "      <td>141259.963329</td>\n",
              "      <td>FR</td>\n",
              "      <td>2025-01-01</td>\n",
              "      <td>2024-09-24 07:57:59.348174</td>\n",
              "    </tr>\n",
              "    <tr>\n",
              "      <th>11400</th>\n",
              "      <td>2025-01-18</td>\n",
              "      <td>131340.554838</td>\n",
              "      <td>FR</td>\n",
              "      <td>2025-01-01</td>\n",
              "      <td>2024-09-24 07:57:59.348174</td>\n",
              "    </tr>\n",
              "    <tr>\n",
              "      <th>11401</th>\n",
              "      <td>2025-01-19</td>\n",
              "      <td>111736.613766</td>\n",
              "      <td>FR</td>\n",
              "      <td>2025-01-01</td>\n",
              "      <td>2024-09-24 07:57:59.348174</td>\n",
              "    </tr>\n",
              "    <tr>\n",
              "      <th>11402</th>\n",
              "      <td>2025-01-20</td>\n",
              "      <td>121243.437774</td>\n",
              "      <td>FR</td>\n",
              "      <td>2025-01-01</td>\n",
              "      <td>2024-09-24 07:57:59.348174</td>\n",
              "    </tr>\n",
              "    <tr>\n",
              "      <th>11403</th>\n",
              "      <td>2025-01-21</td>\n",
              "      <td>135265.650597</td>\n",
              "      <td>FR</td>\n",
              "      <td>2025-01-01</td>\n",
              "      <td>2024-09-24 07:57:59.348174</td>\n",
              "    </tr>\n",
              "  </tbody>\n",
              "</table>\n",
              "<p>11404 rows × 5 columns</p>\n",
              "</div>"
            ],
            "text/plain": [
              "              ds           yhat country      month                   run_date\n",
              "0     2021-02-01       0.000000      ES 2021-02-01 2024-09-24 07:57:59.348174\n",
              "1     2021-02-02   34478.988747      ES 2021-02-01 2024-09-24 07:57:59.348174\n",
              "2     2021-02-03   56768.244301      ES 2021-02-01 2024-09-24 07:57:59.348174\n",
              "3     2021-02-04   65547.633568      ES 2021-02-01 2024-09-24 07:57:59.348174\n",
              "4     2021-02-05   60346.240428      ES 2021-02-01 2024-09-24 07:57:59.348174\n",
              "...          ...            ...     ...        ...                        ...\n",
              "11399 2025-01-17  141259.963329      FR 2025-01-01 2024-09-24 07:57:59.348174\n",
              "11400 2025-01-18  131340.554838      FR 2025-01-01 2024-09-24 07:57:59.348174\n",
              "11401 2025-01-19  111736.613766      FR 2025-01-01 2024-09-24 07:57:59.348174\n",
              "11402 2025-01-20  121243.437774      FR 2025-01-01 2024-09-24 07:57:59.348174\n",
              "11403 2025-01-21  135265.650597      FR 2025-01-01 2024-09-24 07:57:59.348174\n",
              "\n",
              "[11404 rows x 5 columns]"
            ]
          },
          "execution_count": 23,
          "metadata": {},
          "output_type": "execute_result"
        }
      ],
      "source": [
        "p['month'] = p['ds'].dt.strftime('%Y-%m-01')\n",
        "p[\"run_date\"] = pd.Timestamp('now')#.date()\n",
        "\n",
        "p[\"month\"] = pd.to_datetime(p[\"month\"])#.strftime('%Y-%m-%d')\n",
        "p[\"run_date\"] = pd.to_datetime(p[\"run_date\"])#.strftime('%Y-%m-%d')\n",
        "\n",
        "p[\"category\"] = \"ALL\" # The model\n",
        "\n",
        "#Renaming according to the existing materialized table in BQ\n",
        "#finance_external_sources.spend_forecast_per_country_only_model_results\n",
        "\n",
        "p = p.rename(columns={\"spend_type\": \"product\"})\n",
        "\n",
        "desired_order = ['ds', 'yhat', 'country', 'month', 'run_date']\n",
        "\n",
        "p = p[desired_order]\n",
        "\n",
        "p"
      ]
    },
    {
      "cell_type": "code",
      "execution_count": null,
      "id": "d35e0dc5-d5b0-47b4-ae3b-c389cbc840a4",
      "metadata": {
        "tags": [],
        "id": "d35e0dc5-d5b0-47b4-ae3b-c389cbc840a4",
        "outputId": "241f166f-1228-4367-846b-2912b51651eb"
      },
      "outputs": [
        {
          "data": {
            "text/html": [
              "<div>\n",
              "<style scoped>\n",
              "    .dataframe tbody tr th:only-of-type {\n",
              "        vertical-align: middle;\n",
              "    }\n",
              "\n",
              "    .dataframe tbody tr th {\n",
              "        vertical-align: top;\n",
              "    }\n",
              "\n",
              "    .dataframe thead th {\n",
              "        text-align: right;\n",
              "    }\n",
              "</style>\n",
              "<table border=\"1\" class=\"dataframe\">\n",
              "  <thead>\n",
              "    <tr style=\"text-align: right;\">\n",
              "      <th></th>\n",
              "      <th>Spend</th>\n",
              "    </tr>\n",
              "    <tr>\n",
              "      <th>month</th>\n",
              "      <th></th>\n",
              "    </tr>\n",
              "  </thead>\n",
              "  <tbody>\n",
              "    <tr>\n",
              "      <th>2024-09-01</th>\n",
              "      <td>2.634291e+08</td>\n",
              "    </tr>\n",
              "    <tr>\n",
              "      <th>2024-10-01</th>\n",
              "      <td>2.878063e+08</td>\n",
              "    </tr>\n",
              "    <tr>\n",
              "      <th>2024-11-01</th>\n",
              "      <td>2.857000e+08</td>\n",
              "    </tr>\n",
              "    <tr>\n",
              "      <th>2024-12-01</th>\n",
              "      <td>2.643390e+08</td>\n",
              "    </tr>\n",
              "    <tr>\n",
              "      <th>2025-01-01</th>\n",
              "      <td>1.795759e+08</td>\n",
              "    </tr>\n",
              "  </tbody>\n",
              "</table>\n",
              "</div>"
            ],
            "text/plain": [
              "                   Spend\n",
              "month                   \n",
              "2024-09-01  2.634291e+08\n",
              "2024-10-01  2.878063e+08\n",
              "2024-11-01  2.857000e+08\n",
              "2024-12-01  2.643390e+08\n",
              "2025-01-01  1.795759e+08"
            ]
          },
          "execution_count": 24,
          "metadata": {},
          "output_type": "execute_result"
        }
      ],
      "source": [
        " #print(forecast)\n",
        "month_fc_df = p_adjusted\n",
        "month_fc_df['month'] = month_fc_df['ds'].dt.strftime('%Y-%m-01')\n",
        "month_fc_df.rename(columns={\"yhat\": \"Spend\"}, inplace=True)\n",
        "\n",
        "month_fc_df[['month', 'Spend']].groupby(['month']).sum().tail()"
      ]
    },
    {
      "cell_type": "code",
      "execution_count": null,
      "id": "7e636295-7836-479c-9b3c-126905ff0bd6",
      "metadata": {
        "id": "7e636295-7836-479c-9b3c-126905ff0bd6",
        "outputId": "2823cbcb-6b13-4476-a743-8709be1ff95a"
      },
      "outputs": [
        {
          "name": "stderr",
          "output_type": "stream",
          "text": [
            "100%|██████████| 1/1 [00:00<00:00, 7724.32it/s]"
          ]
        },
        {
          "name": "stdout",
          "output_type": "stream",
          "text": [
            " Completed\n"
          ]
        },
        {
          "name": "stderr",
          "output_type": "stream",
          "text": [
            "\n"
          ]
        }
      ],
      "source": [
        "# Current run\n",
        "# Pushing the Non Adjusted\n",
        "\n",
        "pandas_gbq.to_gbq(p, 'finance_external_sources.spend_forecast_per_country_only_model_results', \"production\", if_exists = \"append\") #replace\")\n",
        "\n",
        "print(' Completed')"
      ]
    },
    {
      "cell_type": "code",
      "execution_count": null,
      "id": "7e5b556b-9f71-48f1-a69c-9ef392e3449d",
      "metadata": {
        "tags": [],
        "id": "7e5b556b-9f71-48f1-a69c-9ef392e3449d",
        "outputId": "d49e7923-8e63-4cf9-c160-bdbb1e518b42"
      },
      "outputs": [
        {
          "data": {
            "text/html": [
              "<div>\n",
              "<style scoped>\n",
              "    .dataframe tbody tr th:only-of-type {\n",
              "        vertical-align: middle;\n",
              "    }\n",
              "\n",
              "    .dataframe tbody tr th {\n",
              "        vertical-align: top;\n",
              "    }\n",
              "\n",
              "    .dataframe thead th {\n",
              "        text-align: right;\n",
              "    }\n",
              "</style>\n",
              "<table border=\"1\" class=\"dataframe\">\n",
              "  <thead>\n",
              "    <tr style=\"text-align: right;\">\n",
              "      <th></th>\n",
              "      <th>ds</th>\n",
              "      <th>yhat</th>\n",
              "      <th>country</th>\n",
              "      <th>month</th>\n",
              "      <th>run_date</th>\n",
              "    </tr>\n",
              "  </thead>\n",
              "  <tbody>\n",
              "    <tr>\n",
              "      <th>0</th>\n",
              "      <td>2021-02-01</td>\n",
              "      <td>0.000000</td>\n",
              "      <td>ES</td>\n",
              "      <td>2021-02-01</td>\n",
              "      <td>2024-09-24 07:57:59.348174</td>\n",
              "    </tr>\n",
              "    <tr>\n",
              "      <th>1</th>\n",
              "      <td>2021-02-02</td>\n",
              "      <td>34478.988747</td>\n",
              "      <td>ES</td>\n",
              "      <td>2021-02-01</td>\n",
              "      <td>2024-09-24 07:57:59.348174</td>\n",
              "    </tr>\n",
              "    <tr>\n",
              "      <th>2</th>\n",
              "      <td>2021-02-03</td>\n",
              "      <td>56768.244301</td>\n",
              "      <td>ES</td>\n",
              "      <td>2021-02-01</td>\n",
              "      <td>2024-09-24 07:57:59.348174</td>\n",
              "    </tr>\n",
              "    <tr>\n",
              "      <th>3</th>\n",
              "      <td>2021-02-04</td>\n",
              "      <td>65547.633568</td>\n",
              "      <td>ES</td>\n",
              "      <td>2021-02-01</td>\n",
              "      <td>2024-09-24 07:57:59.348174</td>\n",
              "    </tr>\n",
              "    <tr>\n",
              "      <th>4</th>\n",
              "      <td>2021-02-05</td>\n",
              "      <td>60346.240428</td>\n",
              "      <td>ES</td>\n",
              "      <td>2021-02-01</td>\n",
              "      <td>2024-09-24 07:57:59.348174</td>\n",
              "    </tr>\n",
              "    <tr>\n",
              "      <th>...</th>\n",
              "      <td>...</td>\n",
              "      <td>...</td>\n",
              "      <td>...</td>\n",
              "      <td>...</td>\n",
              "      <td>...</td>\n",
              "    </tr>\n",
              "    <tr>\n",
              "      <th>11399</th>\n",
              "      <td>2025-01-17</td>\n",
              "      <td>141259.963329</td>\n",
              "      <td>FR</td>\n",
              "      <td>2025-01-01</td>\n",
              "      <td>2024-09-24 07:57:59.348174</td>\n",
              "    </tr>\n",
              "    <tr>\n",
              "      <th>11400</th>\n",
              "      <td>2025-01-18</td>\n",
              "      <td>131340.554838</td>\n",
              "      <td>FR</td>\n",
              "      <td>2025-01-01</td>\n",
              "      <td>2024-09-24 07:57:59.348174</td>\n",
              "    </tr>\n",
              "    <tr>\n",
              "      <th>11401</th>\n",
              "      <td>2025-01-19</td>\n",
              "      <td>111736.613766</td>\n",
              "      <td>FR</td>\n",
              "      <td>2025-01-01</td>\n",
              "      <td>2024-09-24 07:57:59.348174</td>\n",
              "    </tr>\n",
              "    <tr>\n",
              "      <th>11402</th>\n",
              "      <td>2025-01-20</td>\n",
              "      <td>121243.437774</td>\n",
              "      <td>FR</td>\n",
              "      <td>2025-01-01</td>\n",
              "      <td>2024-09-24 07:57:59.348174</td>\n",
              "    </tr>\n",
              "    <tr>\n",
              "      <th>11403</th>\n",
              "      <td>2025-01-21</td>\n",
              "      <td>135265.650597</td>\n",
              "      <td>FR</td>\n",
              "      <td>2025-01-01</td>\n",
              "      <td>2024-09-24 07:57:59.348174</td>\n",
              "    </tr>\n",
              "  </tbody>\n",
              "</table>\n",
              "<p>11404 rows × 5 columns</p>\n",
              "</div>"
            ],
            "text/plain": [
              "              ds           yhat country      month                   run_date\n",
              "0     2021-02-01       0.000000      ES 2021-02-01 2024-09-24 07:57:59.348174\n",
              "1     2021-02-02   34478.988747      ES 2021-02-01 2024-09-24 07:57:59.348174\n",
              "2     2021-02-03   56768.244301      ES 2021-02-01 2024-09-24 07:57:59.348174\n",
              "3     2021-02-04   65547.633568      ES 2021-02-01 2024-09-24 07:57:59.348174\n",
              "4     2021-02-05   60346.240428      ES 2021-02-01 2024-09-24 07:57:59.348174\n",
              "...          ...            ...     ...        ...                        ...\n",
              "11399 2025-01-17  141259.963329      FR 2025-01-01 2024-09-24 07:57:59.348174\n",
              "11400 2025-01-18  131340.554838      FR 2025-01-01 2024-09-24 07:57:59.348174\n",
              "11401 2025-01-19  111736.613766      FR 2025-01-01 2024-09-24 07:57:59.348174\n",
              "11402 2025-01-20  121243.437774      FR 2025-01-01 2024-09-24 07:57:59.348174\n",
              "11403 2025-01-21  135265.650597      FR 2025-01-01 2024-09-24 07:57:59.348174\n",
              "\n",
              "[11404 rows x 5 columns]"
            ]
          },
          "execution_count": 26,
          "metadata": {},
          "output_type": "execute_result"
        }
      ],
      "source": [
        "p"
      ]
    },
    {
      "cell_type": "code",
      "execution_count": null,
      "id": "da2ebf8d-300c-48a4-a63f-b3cfc7786c62",
      "metadata": {
        "tags": [],
        "id": "da2ebf8d-300c-48a4-a63f-b3cfc7786c62"
      },
      "outputs": [],
      "source": [
        "#p.to_csv('guille_spend_fct_0506.csv', index=False)"
      ]
    },
    {
      "cell_type": "code",
      "execution_count": null,
      "id": "74e85dff-bccd-4cb9-9525-5f19d54cc8a4",
      "metadata": {
        "tags": [],
        "id": "74e85dff-bccd-4cb9-9525-5f19d54cc8a4"
      },
      "outputs": [],
      "source": [
        "#p_adjusted.to_csv('guille_spend_fct_adjusted_2805.csv', index=False)"
      ]
    }
  ],
  "metadata": {
    "environment": {
      "kernel": "conda-root-py",
      "name": "workbench-notebooks.m115",
      "type": "gcloud",
      "uri": "gcr.io/deeplearning-platform-release/workbench-notebooks:m115"
    },
    "kernelspec": {
      "display_name": "Python 3 (ipykernel) (Local)",
      "language": "python",
      "name": "conda-root-py"
    },
    "language_info": {
      "codemirror_mode": {
        "name": "ipython",
        "version": 3
      },
      "file_extension": ".py",
      "mimetype": "text/x-python",
      "name": "python",
      "nbconvert_exporter": "python",
      "pygments_lexer": "ipython3",
      "version": "3.10.13"
    },
    "colab": {
      "provenance": [],
      "toc_visible": true
    }
  },
  "nbformat": 4,
  "nbformat_minor": 5
}
